{
  "nbformat": 4,
  "nbformat_minor": 0,
  "metadata": {
    "colab": {
      "provenance": [],
      "authorship_tag": "ABX9TyNJxH0S5u+1VHWPEv1xyWKU",
      "include_colab_link": true
    },
    "kernelspec": {
      "name": "python3",
      "display_name": "Python 3"
    },
    "language_info": {
      "name": "python"
    }
  },
  "cells": [
    {
      "cell_type": "markdown",
      "metadata": {
        "id": "view-in-github",
        "colab_type": "text"
      },
      "source": [
        "<a href=\"https://colab.research.google.com/github/baanisingh/Basic-Python-Assignment-for-Beginners-/blob/main/Python_Assignment1.ipynb\" target=\"_parent\"><img src=\"https://colab.research.google.com/assets/colab-badge.svg\" alt=\"Open In Colab\"/></a>"
      ]
    },
    {
      "cell_type": "markdown",
      "source": [
        "# **Ques 1) L is a list defined as L=[11,12,13,14]**"
      ],
      "metadata": {
        "id": "nKPENeApwAAN"
      }
    },
    {
      "cell_type": "markdown",
      "source": [
        "(i) WAP to add 50  and 60 to L "
      ],
      "metadata": {
        "id": "03Amdl81wQOl"
      }
    },
    {
      "cell_type": "code",
      "execution_count": null,
      "metadata": {
        "id": "lPeE8nt5r7an",
        "colab": {
          "base_uri": "https://localhost:8080/"
        },
        "outputId": "20aeb3a6-6a80-480f-c15a-1159304c516e"
      },
      "outputs": [
        {
          "output_type": "stream",
          "name": "stdout",
          "text": [
            "Original List       -->  [11, 12, 13, 14]\n",
            "List After Adding   -->  [11, 12, 13, 14, 50, 60]\n"
          ]
        }
      ],
      "source": [
        "L = [11, 12, 13, 14 ]\n",
        "print (\"Original List       --> \", L)\n",
        "\n",
        "L.append(50)\n",
        "L.append(60)\n",
        "print (\"List After Adding   --> \", L)"
      ]
    },
    {
      "cell_type": "markdown",
      "source": [
        "(ii) WAP to remove 11 and 13 from L"
      ],
      "metadata": {
        "id": "5FdKAKfwwyYH"
      }
    },
    {
      "cell_type": "code",
      "source": [
        "L = [11, 12, 13, 14 ]\n",
        "print (\"Original List       --> \", L)\n",
        "\n",
        "del L[0]\n",
        "del L[2]\n",
        "\n",
        "print(\"List after deleting -->\",L)"
      ],
      "metadata": {
        "colab": {
          "base_uri": "https://localhost:8080/"
        },
        "id": "OPb2jsn8w2Lg",
        "outputId": "d5d37d6f-59d1-40c2-d5e4-cfc9ef7b08f1"
      },
      "execution_count": null,
      "outputs": [
        {
          "output_type": "stream",
          "name": "stdout",
          "text": [
            "Original List       -->  [11, 12, 13, 14]\n",
            "List after deleting --> [12, 13]\n"
          ]
        }
      ]
    },
    {
      "cell_type": "markdown",
      "source": [
        "(iii)WAP to sort L in acsending order"
      ],
      "metadata": {
        "id": "zS8hE4MixKE-"
      }
    },
    {
      "cell_type": "code",
      "source": [
        "L=[11,12,13,14]\n",
        "print(\"Original List -->\",L)\n",
        "L.sort()\n",
        "print(\"After sorting\",L)\n"
      ],
      "metadata": {
        "colab": {
          "base_uri": "https://localhost:8080/"
        },
        "id": "HsJnqgNfyEHt",
        "outputId": "d9c7b8c1-092c-42b5-cdbe-2132fe140c81"
      },
      "execution_count": null,
      "outputs": [
        {
          "output_type": "stream",
          "name": "stdout",
          "text": [
            "Original List --> [11, 12, 13, 14]\n",
            "After sorting [11, 12, 13, 14]\n"
          ]
        }
      ]
    },
    {
      "cell_type": "markdown",
      "source": [
        "(iv)WAP to sort L in descending order"
      ],
      "metadata": {
        "id": "ah_fKEXky7lc"
      }
    },
    {
      "cell_type": "code",
      "source": [
        "L=[11,12,13,14]\n",
        "print(\"Original list -->\",L)\n",
        "\n",
        "L.sort(reverse=True)\n",
        "print(\"After sorting in descending order\",L)"
      ],
      "metadata": {
        "colab": {
          "base_uri": "https://localhost:8080/"
        },
        "id": "e0aUSeGizCES",
        "outputId": "d183946a-69ad-4d18-b8c3-26a2cac1b6e1"
      },
      "execution_count": null,
      "outputs": [
        {
          "output_type": "stream",
          "name": "stdout",
          "text": [
            "Original list --> [11, 12, 13, 14]\n",
            "After sorting in descending order [14, 13, 12, 11]\n"
          ]
        }
      ]
    },
    {
      "cell_type": "markdown",
      "source": [
        "(v)WAP to search 13 in L"
      ],
      "metadata": {
        "id": "0u1nlpPlzhRO"
      }
    },
    {
      "cell_type": "code",
      "source": [
        "L=[11,12,13,14]\n",
        "print(\"Original List -->,L\")\n",
        "\n",
        "if (13 in L)==True:\n",
        "  print(\"Present\")\n",
        "else:\n",
        "  print(\"Not present\")\n",
        "\n",
        "if (15 in L)==True:\n",
        "  print(\"Present\")\n",
        "else:\n",
        "  print(\"Not present\")"
      ],
      "metadata": {
        "colab": {
          "base_uri": "https://localhost:8080/"
        },
        "id": "8Z35hIQgzm8o",
        "outputId": "ee59a7e6-c8a7-4667-a643-d20e5b5000f9"
      },
      "execution_count": null,
      "outputs": [
        {
          "output_type": "stream",
          "name": "stdout",
          "text": [
            "Original List -->,L\n",
            "Present\n",
            "Not present\n"
          ]
        }
      ]
    },
    {
      "cell_type": "markdown",
      "source": [
        "(vi)WAP to count the number of elements present in L"
      ],
      "metadata": {
        "id": "-2mmAIF10sSm"
      }
    },
    {
      "cell_type": "code",
      "source": [
        "L=[11,12,13,14]\n",
        "\n",
        "print(\"The number of elements in the List are -->\",len(L))"
      ],
      "metadata": {
        "colab": {
          "base_uri": "https://localhost:8080/"
        },
        "id": "Rv0hB8Sf0zTT",
        "outputId": "117d7e25-9dd7-4cd9-f985-ae39ea70ab0d"
      },
      "execution_count": null,
      "outputs": [
        {
          "output_type": "stream",
          "name": "stdout",
          "text": [
            "The number of elements in the List are --> 4\n"
          ]
        }
      ]
    },
    {
      "cell_type": "markdown",
      "source": [
        "(vii)WAP to sum all the elements in L"
      ],
      "metadata": {
        "id": "bgD5nYiJ1pZG"
      }
    },
    {
      "cell_type": "code",
      "source": [
        "L=[11,12,13,14]\n",
        "\n",
        "print(\"Sum of all the elements of the List is\",sum(L))"
      ],
      "metadata": {
        "colab": {
          "base_uri": "https://localhost:8080/"
        },
        "id": "Votyrqc51t-H",
        "outputId": "edb95012-5b44-48e8-f687-63caff69108c"
      },
      "execution_count": null,
      "outputs": [
        {
          "output_type": "stream",
          "name": "stdout",
          "text": [
            "Sum of all the elements of the List is 50\n"
          ]
        }
      ]
    },
    {
      "cell_type": "markdown",
      "source": [
        "(viii)WAP to sum all the odd numbers in L"
      ],
      "metadata": {
        "id": "smVPa5bT1-IN"
      }
    },
    {
      "cell_type": "code",
      "source": [
        "def solve(L):\n",
        "   return sum([i for i in L if i % 2 == 1])\n",
        "L = [11,12,13,14]\n",
        "print(solve(L))"
      ],
      "metadata": {
        "colab": {
          "base_uri": "https://localhost:8080/"
        },
        "id": "dL1IiiIV2Fqn",
        "outputId": "233409a8-934b-4408-d42f-304b2a7d5922"
      },
      "execution_count": null,
      "outputs": [
        {
          "output_type": "stream",
          "name": "stdout",
          "text": [
            "24\n"
          ]
        }
      ]
    },
    {
      "cell_type": "markdown",
      "source": [
        "(ix)WAP to sum all even numbers in L"
      ],
      "metadata": {
        "id": "4k8IFeYo3HSy"
      }
    },
    {
      "cell_type": "code",
      "source": [
        "def solveEVEN(L):\n",
        "  return sum([i for i in L if i%2==0])\n",
        "L=[11,12,13,14]\n",
        "print(solveEVEN(L))"
      ],
      "metadata": {
        "colab": {
          "base_uri": "https://localhost:8080/"
        },
        "id": "Wacg_9xK3L7N",
        "outputId": "bb965a7a-32de-4704-88ac-7c5f0ae6b393"
      },
      "execution_count": null,
      "outputs": [
        {
          "output_type": "stream",
          "name": "stdout",
          "text": [
            "26\n"
          ]
        }
      ]
    },
    {
      "cell_type": "markdown",
      "source": [
        "(x)WAP to sum all the prime numbers in L"
      ],
      "metadata": {
        "id": "nJ36xpsZ4x6-"
      }
    },
    {
      "cell_type": "code",
      "source": [
        "def is_prime(num):\n",
        "    if num < 2:\n",
        "        return False\n",
        "\n",
        "    for i in range(2, int(num**0.5) + 1):\n",
        "        if num % i == 0:\n",
        "            return False\n",
        "\n",
        "    return True\n",
        "\n",
        "def sum_prime_numbers(lst):\n",
        "    prime_sum = 0\n",
        "    for num in lst:\n",
        "        if is_prime(num):\n",
        "            prime_sum += num\n",
        "    return prime_sum\n",
        "\n",
        "\n",
        "numbers = [11,12,13,14]\n",
        "result = sum_prime_numbers(numbers)\n",
        "print(\"Sum of prime numbers:\", result)\n"
      ],
      "metadata": {
        "colab": {
          "base_uri": "https://localhost:8080/"
        },
        "id": "tE-qdHyG43P4",
        "outputId": "65aa26e3-fc4c-4e77-c7cf-d51441865c2a"
      },
      "execution_count": null,
      "outputs": [
        {
          "output_type": "stream",
          "name": "stdout",
          "text": [
            "Sum of prime numbers: 24\n"
          ]
        }
      ]
    },
    {
      "cell_type": "markdown",
      "source": [
        "(xi)WAP to clear all the elements in the list"
      ],
      "metadata": {
        "id": "vbXLTSZx6AF6"
      }
    },
    {
      "cell_type": "code",
      "source": [
        "L=[11,12,13,14]\n",
        "\n",
        "L.clear()"
      ],
      "metadata": {
        "id": "5P5ttmRP6LaL"
      },
      "execution_count": null,
      "outputs": []
    },
    {
      "cell_type": "markdown",
      "source": [
        "(xii)WAP to delete L"
      ],
      "metadata": {
        "id": "4y-XNYny6UhW"
      }
    },
    {
      "cell_type": "code",
      "source": [
        "L=[11,12,13,14]\n",
        "\n",
        "del L"
      ],
      "metadata": {
        "id": "izauMive6Xes"
      },
      "execution_count": null,
      "outputs": []
    },
    {
      "cell_type": "markdown",
      "source": [
        "# **Ques 2) D is a dictionary defined as D=(1:5.6,2:7.8, 3:6.6, 4:8.7, 5:7.7}**"
      ],
      "metadata": {
        "id": "rtsQxQKZ6s7a"
      }
    },
    {
      "cell_type": "markdown",
      "source": [
        "(i) WAP to add a new entry in D; key=8 and value= 8.8"
      ],
      "metadata": {
        "id": "40KlsV01T0Fv"
      }
    },
    {
      "cell_type": "code",
      "source": [
        "D={1:5.6,2:7.8, 3:6.6, 4:8.7, 5:7.7}\n",
        "\n",
        "print(\"Original deictionary -->\",D)\n",
        "\n",
        "D[8]=8.8\n",
        "print(\"After adding a new key -->\",D)"
      ],
      "metadata": {
        "colab": {
          "base_uri": "https://localhost:8080/"
        },
        "id": "6SI2Id3iUJ_N",
        "outputId": "b1e56626-0874-4671-8d7a-8fd293d1e29a"
      },
      "execution_count": null,
      "outputs": [
        {
          "output_type": "stream",
          "name": "stdout",
          "text": [
            "Original deictionary --> {1: 5.6, 2: 7.8, 3: 6.6, 4: 8.7, 5: 7.7}\n",
            "After adding a new key --> {1: 5.6, 2: 7.8, 3: 6.6, 4: 8.7, 5: 7.7, 8: 8.8}\n"
          ]
        }
      ]
    },
    {
      "cell_type": "markdown",
      "source": [
        "(ii) WAP to remove key=2"
      ],
      "metadata": {
        "id": "CSdX3eFYUsoO"
      }
    },
    {
      "cell_type": "code",
      "source": [
        "D={1:5.6,2:7.8, 3:6.6, 4:8.7, 5:7.7}\n",
        "\n",
        "del D[2]\n",
        "print(\"After deleting key=2 -->\",D)"
      ],
      "metadata": {
        "colab": {
          "base_uri": "https://localhost:8080/"
        },
        "id": "gOkESyb4UxGe",
        "outputId": "c26c5386-5b8d-4e50-dcaf-c96daee56859"
      },
      "execution_count": null,
      "outputs": [
        {
          "output_type": "stream",
          "name": "stdout",
          "text": [
            "After deleting key=2 --> {1: 5.6, 3: 6.6, 4: 8.7, 5: 7.7}\n"
          ]
        }
      ]
    },
    {
      "cell_type": "markdown",
      "source": [],
      "metadata": {
        "id": "VPHaL6t8U88g"
      }
    },
    {
      "cell_type": "markdown",
      "source": [
        "(iii)WAP to check wheather 6 key is present in the D or not"
      ],
      "metadata": {
        "id": "fXojHkFFV8hL"
      }
    },
    {
      "cell_type": "code",
      "source": [
        "D={1:5.6,2:7.8, 3:6.6, 4:8.7, 5:7.7}\n",
        "\n",
        "print(\"original dictionary -->\",D)\n",
        "print(\"Is key 6 present? -->\",6 in D)"
      ],
      "metadata": {
        "colab": {
          "base_uri": "https://localhost:8080/"
        },
        "id": "IpFgmFhpWGP9",
        "outputId": "161e1d9d-99f3-4f4e-9a10-f70d27422554"
      },
      "execution_count": null,
      "outputs": [
        {
          "output_type": "stream",
          "name": "stdout",
          "text": [
            "original dictionary --> {1: 5.6, 2: 7.8, 3: 6.6, 4: 8.7, 5: 7.7}\n",
            "Is key 6 present? --> False\n"
          ]
        }
      ]
    },
    {
      "cell_type": "markdown",
      "source": [
        "(iv) WAP to count the number of elements present in D"
      ],
      "metadata": {
        "id": "B-h7gDdwWYDN"
      }
    },
    {
      "cell_type": "code",
      "source": [
        "D={1:5.6,2:7.8, 3:6.6, 4:8.7, 5:7.7}\n",
        "\n",
        "print(\"The number of element in the Dictionary are -->\",len(D))"
      ],
      "metadata": {
        "colab": {
          "base_uri": "https://localhost:8080/"
        },
        "id": "j7pfIBJmWkII",
        "outputId": "0971983d-3671-49b3-cb5b-64a686d26ce8"
      },
      "execution_count": null,
      "outputs": [
        {
          "output_type": "stream",
          "name": "stdout",
          "text": [
            "The number of element in the Dictionary are --> 5\n"
          ]
        }
      ]
    },
    {
      "cell_type": "markdown",
      "source": [
        "(v) WAP to add all the values of elements in D"
      ],
      "metadata": {
        "id": "MM98fU5IWtxF"
      }
    },
    {
      "cell_type": "code",
      "source": [
        "D={1:5.6,2:7.8, 3:6.6, 4:8.7, 5:7.7}\n",
        "\n",
        "print(\"The sum of the elements in the dictionary -->\",sum(D))"
      ],
      "metadata": {
        "colab": {
          "base_uri": "https://localhost:8080/"
        },
        "id": "vx79zZ46WyOC",
        "outputId": "e8ac4e7d-f8e9-4200-f50d-d117ce3a6b1d"
      },
      "execution_count": null,
      "outputs": [
        {
          "output_type": "stream",
          "name": "stdout",
          "text": [
            "The sum of the elements in the dictionary --> 15\n"
          ]
        }
      ]
    },
    {
      "cell_type": "markdown",
      "source": [
        "(vi)WAP to update the value of 3 to 7.1"
      ],
      "metadata": {
        "id": "h0C_xNOYX35t"
      }
    },
    {
      "cell_type": "code",
      "source": [
        "D={1:5.6,2:7.8, 3:6.6, 4:8.7, 5:7.7}\n",
        "D[3]=7.1\n",
        "\n",
        "print(\"New update -->\",D)"
      ],
      "metadata": {
        "colab": {
          "base_uri": "https://localhost:8080/"
        },
        "id": "4smZ-TkCX_Kf",
        "outputId": "ea03c991-813c-4054-b414-c488bac1098b"
      },
      "execution_count": null,
      "outputs": [
        {
          "output_type": "stream",
          "name": "stdout",
          "text": [
            "New update --> {1: 5.6, 2: 7.8, 3: 7.1, 4: 8.7, 5: 7.7}\n"
          ]
        }
      ]
    },
    {
      "cell_type": "markdown",
      "source": [
        "(vii) WAP to clear the dictionary"
      ],
      "metadata": {
        "id": "XXQmxl19Yhot"
      }
    },
    {
      "cell_type": "code",
      "source": [
        "D={1:5.6,2:7.8, 3:6.6, 4:8.7, 5:7.7}\n",
        "D.clear()"
      ],
      "metadata": {
        "id": "QpLU4uitYllM"
      },
      "execution_count": null,
      "outputs": []
    },
    {
      "cell_type": "markdown",
      "source": [
        "**# Ques3) S1 is a set defined as S1=[10,20,30,40,50,60] **\n",
        "**# S2=[40,50,60,70,80,90]**"
      ],
      "metadata": {
        "id": "H9gNE1Cw9TQ_"
      }
    },
    {
      "cell_type": "markdown",
      "source": [
        "(i)WAP to add 55 and 66 to set S1"
      ],
      "metadata": {
        "id": "wq-vsQkp9wl7"
      }
    },
    {
      "cell_type": "code",
      "source": [
        "S1=set([10,20,30,40,50,60]) \n",
        "S2=set([40,50,60,70,80,90])\n",
        "\n",
        "print(\"The original S1 set is -->\",S1)\n",
        "print(\"The original S2 set is -->\",S2)\n",
        "\n",
        "S1.add(55)\n",
        "S1.add(66)\n",
        "\n",
        "print(\"the updated S1 set is -->\",S1)"
      ],
      "metadata": {
        "colab": {
          "base_uri": "https://localhost:8080/"
        },
        "id": "Bi3npcZT93oK",
        "outputId": "c423311a-f860-488f-a7c1-1f803d01e33b"
      },
      "execution_count": null,
      "outputs": [
        {
          "output_type": "stream",
          "name": "stdout",
          "text": [
            "The original S1 set is --> {40, 10, 50, 20, 60, 30}\n",
            "The original S2 set is --> {70, 40, 80, 50, 90, 60}\n",
            "the updated S1 set is --> {66, 40, 10, 50, 20, 55, 60, 30}\n"
          ]
        }
      ]
    },
    {
      "cell_type": "markdown",
      "source": [
        "(ii)WAP to remove 10 and 30 from S1"
      ],
      "metadata": {
        "id": "zi9aO2lc_LdR"
      }
    },
    {
      "cell_type": "code",
      "source": [
        "S1=set([10,20,30,40,50,60]) \n",
        "S2=set([40,50,60,70,80,90])\n",
        "\n",
        "print(\"The original S1 set is -->\",S1)\n",
        "print(\"The original S2 set is -->\",S2)\n",
        "\n",
        "S1.remove(10)\n",
        "S1.remove(30)\n",
        "\n",
        "print(\"the updates S1 is -->\",S1)\n"
      ],
      "metadata": {
        "colab": {
          "base_uri": "https://localhost:8080/"
        },
        "id": "BPz1G4zv_Od-",
        "outputId": "206d4f0d-916a-461f-bf46-67caaa16582a"
      },
      "execution_count": null,
      "outputs": [
        {
          "output_type": "stream",
          "name": "stdout",
          "text": [
            "The original S1 set is --> {40, 10, 50, 20, 60, 30}\n",
            "The original S2 set is --> {70, 40, 80, 50, 90, 60}\n",
            "the updates S1 is --> {40, 50, 20, 60}\n"
          ]
        }
      ]
    },
    {
      "cell_type": "markdown",
      "source": [
        "(iii) WAP to check whether 40 is present in S1"
      ],
      "metadata": {
        "id": "4rrlleup_f61"
      }
    },
    {
      "cell_type": "code",
      "source": [
        "S1=set([10,20,30,40,50,60]) \n",
        "S2=set([40,50,60,70,80,90])\n",
        "\n",
        "print(\"Is 40 present in S1?\", 40 in S1)"
      ],
      "metadata": {
        "colab": {
          "base_uri": "https://localhost:8080/"
        },
        "id": "-HP3MtoL_i_4",
        "outputId": "ad2167f2-53af-4101-cfe0-29d76efe6ad4"
      },
      "execution_count": null,
      "outputs": [
        {
          "output_type": "stream",
          "name": "stdout",
          "text": [
            "Is 40 present in S1? True\n"
          ]
        }
      ]
    },
    {
      "cell_type": "markdown",
      "source": [
        "(iv) WAP to find the union between S1 and S2"
      ],
      "metadata": {
        "id": "IWWJmzFc_wEV"
      }
    },
    {
      "cell_type": "code",
      "source": [
        "S1=set([10,20,30,40,50,60]) \n",
        "S2=set([40,50,60,70,80,90])\n",
        "\n",
        "print(\"The original S1 set is -->\",S1)\n",
        "print(\"The original S2 set is -->\",S2)\n",
        "\n",
        "print(\"The union of both the sets is -->\",S1.union(S2))\n"
      ],
      "metadata": {
        "colab": {
          "base_uri": "https://localhost:8080/"
        },
        "id": "ko7ZolzR_ykS",
        "outputId": "044a062a-5fe8-4eee-db9d-c0a5363045e8"
      },
      "execution_count": null,
      "outputs": [
        {
          "output_type": "stream",
          "name": "stdout",
          "text": [
            "The original S1 set is --> {40, 10, 50, 20, 60, 30}\n",
            "The original S2 set is --> {70, 40, 80, 50, 90, 60}\n",
            "The union of both the sets is --> {70, 40, 10, 80, 50, 20, 90, 60, 30}\n"
          ]
        }
      ]
    },
    {
      "cell_type": "markdown",
      "source": [
        "(v) WAP to find the intersection between S1 and S2."
      ],
      "metadata": {
        "id": "BFGs38XVAT7L"
      }
    },
    {
      "cell_type": "code",
      "source": [
        "S1=set([10,20,30,40,50,60]) \n",
        "S2=set([40,50,60,70,80,90])\n",
        "\n",
        "print(\"The original S1 set is -->\",S1)\n",
        "print(\"The original S2 set is -->\",S2)\n",
        "\n",
        "print(\"The intersection of both the sets is -->\",S1.intersection(S2))"
      ],
      "metadata": {
        "colab": {
          "base_uri": "https://localhost:8080/"
        },
        "id": "DdLx26MPAW_o",
        "outputId": "46018920-3235-41cc-9165-7bf722b36ff8"
      },
      "execution_count": null,
      "outputs": [
        {
          "output_type": "stream",
          "name": "stdout",
          "text": [
            "The original S1 set is --> {40, 10, 50, 20, 60, 30}\n",
            "The original S2 set is --> {70, 40, 80, 50, 90, 60}\n",
            "The intersection of both the sets is --> {40, 50, 60}\n"
          ]
        }
      ]
    },
    {
      "cell_type": "markdown",
      "source": [
        "(vi)AP to find the S1 - S2."
      ],
      "metadata": {
        "id": "jFKjcq7MAdE_"
      }
    },
    {
      "cell_type": "code",
      "source": [
        "S1=set([10,20,30,40,50,60]) \n",
        "S2=set([40,50,60,70,80,90])\n",
        "\n",
        "print(\"The original S1 set is -->\",S1)\n",
        "print(\"The original S2 set is -->\",S2)\n",
        "\n",
        "print(\"The difference of both the sets is -->\",S1.difference(S2))"
      ],
      "metadata": {
        "colab": {
          "base_uri": "https://localhost:8080/"
        },
        "id": "NTv_N4oiAgJ_",
        "outputId": "f22bfc84-8cc4-4d22-9939-cdd5e544a386"
      },
      "execution_count": null,
      "outputs": [
        {
          "output_type": "stream",
          "name": "stdout",
          "text": [
            "The original S1 set is --> {40, 10, 50, 20, 60, 30}\n",
            "The original S2 set is --> {70, 40, 80, 50, 90, 60}\n",
            "The difference of both the sets is --> {10, 20, 30}\n"
          ]
        }
      ]
    },
    {
      "cell_type": "markdown",
      "source": [
        "# **Ques4) Write the following programs:**"
      ],
      "metadata": {
        "id": "LKdH92IwAq4X"
      }
    },
    {
      "cell_type": "markdown",
      "source": [
        "(i) WAp to print 100 random strings whose length  is btween 6 and 8"
      ],
      "metadata": {
        "id": "2yy7VWOjA6XM"
      }
    },
    {
      "cell_type": "code",
      "source": [
        "\n",
        "import random\n",
        "import string\n",
        "\n",
        "random_strings = []\n",
        "\n",
        "for _ in range(100):\n",
        "    length = random.randint(6, 8)\n",
        "    random_string = ''.join(random.choices(string.ascii_letters + string.digits + string.punctuation, k=length))\n",
        "    random_strings.append(random_string)\n",
        "\n",
        "print(*random_strings, sep='\\n')"
      ],
      "metadata": {
        "colab": {
          "base_uri": "https://localhost:8080/"
        },
        "id": "aflB5xyNA_jC",
        "outputId": "0fbc8b6b-8603-45d0-fc9b-7ee887affc8f"
      },
      "execution_count": null,
      "outputs": [
        {
          "output_type": "stream",
          "name": "stdout",
          "text": [
            "M4Ui@VH\n",
            "Pw9Nrcij\n",
            "Fcc$eC\n",
            "v#?2b!v\n",
            "z9U1YHPn\n",
            "_LTW',\n",
            "hS$M^<\n",
            "|kGCv~Pq\n",
            ",dq^v;uB\n",
            "W;_.LXac\n",
            ":e{M%Zz\n",
            "&`-@z(\n",
            "&rXr|V#3\n",
            "Q)r^ea)`\n",
            "=`st*(;M\n",
            "k-~#1z/\n",
            "%B-].?\n",
            "8eB\"{Gj\n",
            ")u`,2N\n",
            "w;hS2&g\n",
            "?}j$>1\n",
            "8vq]I8\n",
            "J'zV!y=_\n",
            "jU(@7O\n",
            "Lbm}+b\n",
            "Ze)6vk4\n",
            "G\"yfY5}W\n",
            "1zx\\J?A\n",
            "xyx3BuuW\n",
            "=f~,'Ez\n",
            "G$>2L&vC\n",
            ";{G203Kz\n",
            "BjKg*[M\n",
            "wMJY~y<u\n",
            "@[~R1s\n",
            "t<t9r/\n",
            ",>~h!'-O\n",
            "cERcHh7\n",
            "WUN2hva|\n",
            "sJ$yf&f\n",
            "ZVIX3)\n",
            "Y3{76(\n",
            "JjKSb`\n",
            "C>%j'}o\n",
            "vA-ExqK=\n",
            "vdD*gr[P\n",
            "2i4m1]\n",
            "O}\\]Sf?0\n",
            "*i\\RHy\n",
            "ALu?Z-K:\n",
            "};I}eI=\n",
            "L&>}X{*+\n",
            "qaPWJ//=\n",
            "9UbyFa|x\n",
            "<PF_2p\n",
            "zR[m<o%\n",
            "9p|AzY\n",
            "3B1jmfCS\n",
            "<iv[^Is\n",
            "*')#!V#\n",
            ".+CSo4\n",
            "2SpWO-z\n",
            "?1.9soN;\n",
            "wR9h;F\n",
            "=7f<JA5\n",
            "@|Xyvt0*\n",
            "i6,)UB\n",
            ",y(q]/K\n",
            "!O5?H5=\n",
            "mzl9m}\n",
            "RL:''?$\n",
            "Ea*%le*\n",
            "4c.#,v5\n",
            "-0\\*XUH\n",
            "G_<.7q.)\n",
            "z[YZ4pK)\n",
            ";GZ$_U{8\n",
            "bocJtTK\n",
            "37HgfmIW\n",
            "|}IpF~\n",
            "4}%fV$}\n",
            "U#,f+oP\n",
            "%7K*'J\n",
            "uuW^`03\n",
            "a0`@u(E\n",
            "$l4%&m\n",
            "F9-b%L31\n",
            "9aSgj-*7\n",
            ";c`_!7\n",
            ".2(T(hP!\n",
            "3f/B_*\n",
            "d|n9Y%\n",
            "bMp&#{#\n",
            "x9N~,O;\n",
            "~QU[};\n",
            "_oc1\\%)b\n",
            "OX|R`I\n",
            "sV2N4A\n",
            "^%>-#$\n",
            "M:'3+\\\\&\n"
          ]
        }
      ]
    },
    {
      "cell_type": "markdown",
      "source": [
        "(ii)WAP to print all prime numbers between 600 and 800"
      ],
      "metadata": {
        "id": "uhVnfQ75bOxr"
      }
    },
    {
      "cell_type": "code",
      "source": [
        "def is_prime(n):\n",
        "    if n < 2:\n",
        "        return False\n",
        "    for i in range(2, int(n**0.5) + 1):\n",
        "        if n % i == 0:\n",
        "            return False\n",
        "    return True\n",
        "\n",
        "lower_limit = 600\n",
        "upper_limit = 800\n",
        "\n",
        "print(\"Prime numbers between\", lower_limit, \"and\", upper_limit, \"are:\")\n",
        "for num in range(lower_limit, upper_limit + 1):\n",
        "    if is_prime(num):\n",
        "        print(num)\n"
      ],
      "metadata": {
        "colab": {
          "base_uri": "https://localhost:8080/"
        },
        "id": "fxsSF20bbTia",
        "outputId": "b182c3ff-eae0-4bf5-80fa-7538991ec883"
      },
      "execution_count": null,
      "outputs": [
        {
          "output_type": "stream",
          "name": "stdout",
          "text": [
            "Prime numbers between 600 and 800 are:\n",
            "601\n",
            "607\n",
            "613\n",
            "617\n",
            "619\n",
            "631\n",
            "641\n",
            "643\n",
            "647\n",
            "653\n",
            "659\n",
            "661\n",
            "673\n",
            "677\n",
            "683\n",
            "691\n",
            "701\n",
            "709\n",
            "719\n",
            "727\n",
            "733\n",
            "739\n",
            "743\n",
            "751\n",
            "757\n",
            "761\n",
            "769\n",
            "773\n",
            "787\n",
            "797\n"
          ]
        }
      ]
    },
    {
      "cell_type": "markdown",
      "source": [
        "(iii)WAP to print all numbers between 100 and 1000 that are divisible by 7 and 9."
      ],
      "metadata": {
        "id": "JNe7cOWFcHsb"
      }
    },
    {
      "cell_type": "code",
      "source": [
        "lower_limit = 100\n",
        "upper_limit = 1000\n",
        "\n",
        "print(\"Numbers between\", lower_limit, \"and\", upper_limit, \"divisible by 7 and 9 are:\")\n",
        "for num in range(lower_limit, upper_limit + 1):\n",
        "    if num % 7 == 0 and num % 9 == 0:\n",
        "        print(num)\n",
        "\n",
        "\n"
      ],
      "metadata": {
        "colab": {
          "base_uri": "https://localhost:8080/"
        },
        "id": "60j7JeyrcTdL",
        "outputId": "399b5b7f-7a25-412e-85c7-b30a8d86f7b5"
      },
      "execution_count": null,
      "outputs": [
        {
          "output_type": "stream",
          "name": "stdout",
          "text": [
            "Numbers between 100 and 1000 divisible by 7 and 9 are:\n",
            "126\n",
            "189\n",
            "252\n",
            "315\n",
            "378\n",
            "441\n",
            "504\n",
            "567\n",
            "630\n",
            "693\n",
            "756\n",
            "819\n",
            "882\n",
            "945\n"
          ]
        }
      ]
    },
    {
      "cell_type": "markdown",
      "source": [
        "# **Ques 5) WAP to create two lists of 10 random numbers between 10 and 30**"
      ],
      "metadata": {
        "id": "imwoPRWKgo0C"
      }
    },
    {
      "cell_type": "markdown",
      "source": [
        "(i)Find the common numbers in the two lists"
      ],
      "metadata": {
        "id": "sx8u9C9Hg1Kg"
      }
    },
    {
      "cell_type": "code",
      "source": [
        "L1=[1,12,3,4,15,6,7,8,10,9]\n",
        "L2=[10,11,12,13,14,15,16,17,18,19]\n",
        "\n",
        "for i in range(0,len(L1)):\n",
        "  for j in range(0,len(L2)):\n",
        "    if(L1[i]==L2[j]):\n",
        "      print(\"The common elements in the list are -->\",L1[i])\n",
        "\n"
      ],
      "metadata": {
        "colab": {
          "base_uri": "https://localhost:8080/"
        },
        "id": "MntE4Rdmg5Ty",
        "outputId": "8d6b6160-dfb4-43a5-dd9a-5d63741155c3"
      },
      "execution_count": null,
      "outputs": [
        {
          "output_type": "stream",
          "name": "stdout",
          "text": [
            "The common elements in the list are --> 12\n",
            "The common elements in the list are --> 15\n",
            "The common elements in the list are --> 10\n"
          ]
        }
      ]
    },
    {
      "cell_type": "markdown",
      "source": [
        "(ii)Unique numbers in both lists"
      ],
      "metadata": {
        "id": "UDUDxWgMjYXZ"
      }
    },
    {
      "cell_type": "code",
      "source": [
        "L1=[1,12,3,4,15,6,7,8,10,9]\n",
        "L2=[10,11,12,13,14,15,16,17,18,19]\n",
        "\n",
        "for i in range(0,len(L1)):\n",
        "  for j in range(0,len(L2)):\n",
        "    if(L1[i]!=L2[j]):\n",
        "      print(\"The unique elements in L1 are -->\",L1[i])\n",
        "      print(\"The unique elements in L2 are -->\",L2[j])\n"
      ],
      "metadata": {
        "colab": {
          "base_uri": "https://localhost:8080/"
        },
        "id": "kpz0U4K-jcmk",
        "outputId": "27ed8eb7-5fbe-42aa-ab46-d799cdc979cd"
      },
      "execution_count": null,
      "outputs": [
        {
          "output_type": "stream",
          "name": "stdout",
          "text": [
            "The unique elements in L1 are --> 1\n",
            "The unique elements in L2 are --> 10\n",
            "The unique elements in L1 are --> 1\n",
            "The unique elements in L2 are --> 11\n",
            "The unique elements in L1 are --> 1\n",
            "The unique elements in L2 are --> 12\n",
            "The unique elements in L1 are --> 1\n",
            "The unique elements in L2 are --> 13\n",
            "The unique elements in L1 are --> 1\n",
            "The unique elements in L2 are --> 14\n",
            "The unique elements in L1 are --> 1\n",
            "The unique elements in L2 are --> 15\n",
            "The unique elements in L1 are --> 1\n",
            "The unique elements in L2 are --> 16\n",
            "The unique elements in L1 are --> 1\n",
            "The unique elements in L2 are --> 17\n",
            "The unique elements in L1 are --> 1\n",
            "The unique elements in L2 are --> 18\n",
            "The unique elements in L1 are --> 1\n",
            "The unique elements in L2 are --> 19\n",
            "The unique elements in L1 are --> 12\n",
            "The unique elements in L2 are --> 10\n",
            "The unique elements in L1 are --> 12\n",
            "The unique elements in L2 are --> 11\n",
            "The unique elements in L1 are --> 12\n",
            "The unique elements in L2 are --> 13\n",
            "The unique elements in L1 are --> 12\n",
            "The unique elements in L2 are --> 14\n",
            "The unique elements in L1 are --> 12\n",
            "The unique elements in L2 are --> 15\n",
            "The unique elements in L1 are --> 12\n",
            "The unique elements in L2 are --> 16\n",
            "The unique elements in L1 are --> 12\n",
            "The unique elements in L2 are --> 17\n",
            "The unique elements in L1 are --> 12\n",
            "The unique elements in L2 are --> 18\n",
            "The unique elements in L1 are --> 12\n",
            "The unique elements in L2 are --> 19\n",
            "The unique elements in L1 are --> 3\n",
            "The unique elements in L2 are --> 10\n",
            "The unique elements in L1 are --> 3\n",
            "The unique elements in L2 are --> 11\n",
            "The unique elements in L1 are --> 3\n",
            "The unique elements in L2 are --> 12\n",
            "The unique elements in L1 are --> 3\n",
            "The unique elements in L2 are --> 13\n",
            "The unique elements in L1 are --> 3\n",
            "The unique elements in L2 are --> 14\n",
            "The unique elements in L1 are --> 3\n",
            "The unique elements in L2 are --> 15\n",
            "The unique elements in L1 are --> 3\n",
            "The unique elements in L2 are --> 16\n",
            "The unique elements in L1 are --> 3\n",
            "The unique elements in L2 are --> 17\n",
            "The unique elements in L1 are --> 3\n",
            "The unique elements in L2 are --> 18\n",
            "The unique elements in L1 are --> 3\n",
            "The unique elements in L2 are --> 19\n",
            "The unique elements in L1 are --> 4\n",
            "The unique elements in L2 are --> 10\n",
            "The unique elements in L1 are --> 4\n",
            "The unique elements in L2 are --> 11\n",
            "The unique elements in L1 are --> 4\n",
            "The unique elements in L2 are --> 12\n",
            "The unique elements in L1 are --> 4\n",
            "The unique elements in L2 are --> 13\n",
            "The unique elements in L1 are --> 4\n",
            "The unique elements in L2 are --> 14\n",
            "The unique elements in L1 are --> 4\n",
            "The unique elements in L2 are --> 15\n",
            "The unique elements in L1 are --> 4\n",
            "The unique elements in L2 are --> 16\n",
            "The unique elements in L1 are --> 4\n",
            "The unique elements in L2 are --> 17\n",
            "The unique elements in L1 are --> 4\n",
            "The unique elements in L2 are --> 18\n",
            "The unique elements in L1 are --> 4\n",
            "The unique elements in L2 are --> 19\n",
            "The unique elements in L1 are --> 15\n",
            "The unique elements in L2 are --> 10\n",
            "The unique elements in L1 are --> 15\n",
            "The unique elements in L2 are --> 11\n",
            "The unique elements in L1 are --> 15\n",
            "The unique elements in L2 are --> 12\n",
            "The unique elements in L1 are --> 15\n",
            "The unique elements in L2 are --> 13\n",
            "The unique elements in L1 are --> 15\n",
            "The unique elements in L2 are --> 14\n",
            "The unique elements in L1 are --> 15\n",
            "The unique elements in L2 are --> 16\n",
            "The unique elements in L1 are --> 15\n",
            "The unique elements in L2 are --> 17\n",
            "The unique elements in L1 are --> 15\n",
            "The unique elements in L2 are --> 18\n",
            "The unique elements in L1 are --> 15\n",
            "The unique elements in L2 are --> 19\n",
            "The unique elements in L1 are --> 6\n",
            "The unique elements in L2 are --> 10\n",
            "The unique elements in L1 are --> 6\n",
            "The unique elements in L2 are --> 11\n",
            "The unique elements in L1 are --> 6\n",
            "The unique elements in L2 are --> 12\n",
            "The unique elements in L1 are --> 6\n",
            "The unique elements in L2 are --> 13\n",
            "The unique elements in L1 are --> 6\n",
            "The unique elements in L2 are --> 14\n",
            "The unique elements in L1 are --> 6\n",
            "The unique elements in L2 are --> 15\n",
            "The unique elements in L1 are --> 6\n",
            "The unique elements in L2 are --> 16\n",
            "The unique elements in L1 are --> 6\n",
            "The unique elements in L2 are --> 17\n",
            "The unique elements in L1 are --> 6\n",
            "The unique elements in L2 are --> 18\n",
            "The unique elements in L1 are --> 6\n",
            "The unique elements in L2 are --> 19\n",
            "The unique elements in L1 are --> 7\n",
            "The unique elements in L2 are --> 10\n",
            "The unique elements in L1 are --> 7\n",
            "The unique elements in L2 are --> 11\n",
            "The unique elements in L1 are --> 7\n",
            "The unique elements in L2 are --> 12\n",
            "The unique elements in L1 are --> 7\n",
            "The unique elements in L2 are --> 13\n",
            "The unique elements in L1 are --> 7\n",
            "The unique elements in L2 are --> 14\n",
            "The unique elements in L1 are --> 7\n",
            "The unique elements in L2 are --> 15\n",
            "The unique elements in L1 are --> 7\n",
            "The unique elements in L2 are --> 16\n",
            "The unique elements in L1 are --> 7\n",
            "The unique elements in L2 are --> 17\n",
            "The unique elements in L1 are --> 7\n",
            "The unique elements in L2 are --> 18\n",
            "The unique elements in L1 are --> 7\n",
            "The unique elements in L2 are --> 19\n",
            "The unique elements in L1 are --> 8\n",
            "The unique elements in L2 are --> 10\n",
            "The unique elements in L1 are --> 8\n",
            "The unique elements in L2 are --> 11\n",
            "The unique elements in L1 are --> 8\n",
            "The unique elements in L2 are --> 12\n",
            "The unique elements in L1 are --> 8\n",
            "The unique elements in L2 are --> 13\n",
            "The unique elements in L1 are --> 8\n",
            "The unique elements in L2 are --> 14\n",
            "The unique elements in L1 are --> 8\n",
            "The unique elements in L2 are --> 15\n",
            "The unique elements in L1 are --> 8\n",
            "The unique elements in L2 are --> 16\n",
            "The unique elements in L1 are --> 8\n",
            "The unique elements in L2 are --> 17\n",
            "The unique elements in L1 are --> 8\n",
            "The unique elements in L2 are --> 18\n",
            "The unique elements in L1 are --> 8\n",
            "The unique elements in L2 are --> 19\n",
            "The unique elements in L1 are --> 10\n",
            "The unique elements in L2 are --> 11\n",
            "The unique elements in L1 are --> 10\n",
            "The unique elements in L2 are --> 12\n",
            "The unique elements in L1 are --> 10\n",
            "The unique elements in L2 are --> 13\n",
            "The unique elements in L1 are --> 10\n",
            "The unique elements in L2 are --> 14\n",
            "The unique elements in L1 are --> 10\n",
            "The unique elements in L2 are --> 15\n",
            "The unique elements in L1 are --> 10\n",
            "The unique elements in L2 are --> 16\n",
            "The unique elements in L1 are --> 10\n",
            "The unique elements in L2 are --> 17\n",
            "The unique elements in L1 are --> 10\n",
            "The unique elements in L2 are --> 18\n",
            "The unique elements in L1 are --> 10\n",
            "The unique elements in L2 are --> 19\n",
            "The unique elements in L1 are --> 9\n",
            "The unique elements in L2 are --> 10\n",
            "The unique elements in L1 are --> 9\n",
            "The unique elements in L2 are --> 11\n",
            "The unique elements in L1 are --> 9\n",
            "The unique elements in L2 are --> 12\n",
            "The unique elements in L1 are --> 9\n",
            "The unique elements in L2 are --> 13\n",
            "The unique elements in L1 are --> 9\n",
            "The unique elements in L2 are --> 14\n",
            "The unique elements in L1 are --> 9\n",
            "The unique elements in L2 are --> 15\n",
            "The unique elements in L1 are --> 9\n",
            "The unique elements in L2 are --> 16\n",
            "The unique elements in L1 are --> 9\n",
            "The unique elements in L2 are --> 17\n",
            "The unique elements in L1 are --> 9\n",
            "The unique elements in L2 are --> 18\n",
            "The unique elements in L1 are --> 9\n",
            "The unique elements in L2 are --> 19\n"
          ]
        }
      ]
    },
    {
      "cell_type": "markdown",
      "source": [
        "(iii)Minimum in both the lists"
      ],
      "metadata": {
        "id": "KuI7jt2CLUvy"
      }
    },
    {
      "cell_type": "code",
      "source": [
        "L1=[1,12,3,4,15,6,7,8,10,9]\n",
        "L2=[10,11,12,13,14,15,16,17,18,19]\n",
        "\n",
        "print(\"The minimum element in the L1 list is -->\",min(L1))\n",
        "print(\"The minimum element in the L2 list is -->\",min(L2))"
      ],
      "metadata": {
        "colab": {
          "base_uri": "https://localhost:8080/"
        },
        "id": "GQJPdWl_LbQZ",
        "outputId": "53b85203-8fb9-49a2-9ec9-a5b621e51ade"
      },
      "execution_count": 2,
      "outputs": [
        {
          "output_type": "stream",
          "name": "stdout",
          "text": [
            "The minimum element in the L1 list is --> 1\n",
            "The minimum element in the L2 list is --> 10\n"
          ]
        }
      ]
    },
    {
      "cell_type": "markdown",
      "source": [
        "(iv)Maximum in both the list "
      ],
      "metadata": {
        "id": "Vke_IUnQMHnp"
      }
    },
    {
      "cell_type": "code",
      "source": [
        "L1=[1,12,3,4,15,6,7,8,10,9]\n",
        "L2=[10,11,12,13,14,15,16,17,18,19]\n",
        "\n",
        "print(\"The maximum element in the L1 list is -->\",max(L1))\n",
        "print(\"The maximum element in the L2 list is -->\",max(L2))"
      ],
      "metadata": {
        "colab": {
          "base_uri": "https://localhost:8080/"
        },
        "id": "QNbhKpqsMXHC",
        "outputId": "0b474418-6c39-4a4e-ef5e-1631da478470"
      },
      "execution_count": 5,
      "outputs": [
        {
          "output_type": "stream",
          "name": "stdout",
          "text": [
            "The maximum element in the L1 list is --> 15\n",
            "The maximum element in the L2 list is --> 19\n"
          ]
        }
      ]
    },
    {
      "cell_type": "markdown",
      "source": [
        "(v)Sum of both the lists"
      ],
      "metadata": {
        "id": "nMtfT6dXM-ej"
      }
    },
    {
      "cell_type": "code",
      "source": [
        "L1=[1,12,3,4,15,6,7,8,10,9]\n",
        "L2=[10,11,12,13,14,15,16,17,18,19]\n",
        "\n",
        "L3=L1+L2\n",
        "\n",
        "print(\"the sum of both the lists -->\",sum(L3))"
      ],
      "metadata": {
        "colab": {
          "base_uri": "https://localhost:8080/"
        },
        "id": "pT_okC1INF0O",
        "outputId": "9f584e1d-2edf-46a2-80d7-51129f09ed9f"
      },
      "execution_count": 6,
      "outputs": [
        {
          "output_type": "stream",
          "name": "stdout",
          "text": [
            "the sum of both the lists --> 220\n"
          ]
        }
      ]
    },
    {
      "cell_type": "markdown",
      "source": [
        "# **Ques6)WAP to create a list of 100 random numbers between 100 and 900. count and print the:**"
      ],
      "metadata": {
        "id": "0-cjYRH4Nwmk"
      }
    },
    {
      "cell_type": "markdown",
      "source": [
        "(i)All odd numbers"
      ],
      "metadata": {
        "id": "JbZlEqQGN7Sd"
      }
    },
    {
      "cell_type": "code",
      "source": [
        "import random\n",
        "\n",
        "random_numbers = [random.randint(100, 900) for _ in range(100)]\n",
        "\n",
        "\n",
        "odd_numbers = [num for num in random_numbers if num % 2 != 0]\n",
        "count_odd_numbers = len(odd_numbers)\n",
        "\n",
        "print(\"Random Numbers:\", random_numbers)\n",
        "print(\"Odd Numbers:\", odd_numbers)\n",
        "print(\"Count of Odd Numbers:\", count_odd_numbers)\n",
        "\n"
      ],
      "metadata": {
        "colab": {
          "base_uri": "https://localhost:8080/"
        },
        "id": "bQg1iCKNN-oH",
        "outputId": "270574c2-00f8-4c24-a5aa-4c64e5b65bf8"
      },
      "execution_count": 13,
      "outputs": [
        {
          "output_type": "stream",
          "name": "stdout",
          "text": [
            "Random Numbers: [104, 274, 576, 452, 737, 732, 511, 385, 232, 635, 824, 212, 183, 559, 832, 674, 648, 184, 758, 586, 293, 357, 659, 195, 700, 429, 858, 303, 231, 386, 563, 417, 875, 266, 213, 530, 819, 761, 589, 529, 476, 250, 355, 552, 526, 429, 476, 417, 660, 332, 164, 273, 842, 675, 322, 437, 474, 193, 692, 736, 413, 820, 276, 540, 766, 403, 855, 696, 583, 746, 239, 624, 805, 821, 765, 703, 391, 350, 753, 104, 713, 698, 489, 338, 534, 868, 577, 452, 166, 510, 480, 698, 895, 634, 844, 337, 593, 736, 246, 602]\n",
            "Odd Numbers: [737, 511, 385, 635, 183, 559, 293, 357, 659, 195, 429, 303, 231, 563, 417, 875, 213, 819, 761, 589, 529, 355, 429, 417, 273, 675, 437, 193, 413, 403, 855, 583, 239, 805, 821, 765, 703, 391, 753, 713, 489, 577, 895, 337, 593]\n",
            "Count of Odd Numbers: 45\n"
          ]
        }
      ]
    },
    {
      "cell_type": "markdown",
      "source": [
        "(ii)All even numbers "
      ],
      "metadata": {
        "id": "tHYsU0YxQeoq"
      }
    },
    {
      "cell_type": "code",
      "source": [
        "import random\n",
        "\n",
        "random_numbers = [random.randint(100, 900) for _ in range(100)]\n",
        "\n",
        "\n",
        "even_numbers = [num for num in random_numbers if num % 2 == 0]\n",
        "count_even_numbers = len(odd_numbers)\n",
        "\n",
        "print(\"Random Numbers:\", random_numbers)\n",
        "print(\"Even Numbers:\", even_numbers)\n",
        "print(\"Count of Even Numbers:\", count_even_numbers)"
      ],
      "metadata": {
        "colab": {
          "base_uri": "https://localhost:8080/"
        },
        "id": "KOADqftWQj-3",
        "outputId": "5266b7e7-b911-47b4-94c5-0735f731bcaa"
      },
      "execution_count": 16,
      "outputs": [
        {
          "output_type": "stream",
          "name": "stdout",
          "text": [
            "Random Numbers: [292, 497, 597, 116, 135, 737, 210, 364, 799, 514, 351, 742, 193, 752, 462, 738, 486, 166, 466, 464, 374, 195, 303, 268, 854, 657, 536, 701, 850, 475, 677, 250, 477, 562, 838, 623, 851, 198, 865, 183, 727, 114, 157, 850, 257, 225, 656, 450, 433, 211, 617, 866, 636, 794, 705, 166, 310, 484, 842, 561, 406, 864, 602, 283, 296, 262, 353, 662, 627, 800, 823, 311, 462, 200, 212, 581, 431, 811, 856, 100, 825, 708, 169, 878, 516, 749, 239, 256, 503, 115, 148, 333, 832, 184, 670, 427, 435, 885, 228, 553]\n",
            "Even Numbers: [292, 116, 210, 364, 514, 742, 752, 462, 738, 486, 166, 466, 464, 374, 268, 854, 536, 850, 250, 562, 838, 198, 114, 850, 656, 450, 866, 636, 794, 166, 310, 484, 842, 406, 864, 602, 296, 262, 662, 800, 462, 200, 212, 856, 100, 708, 878, 516, 256, 148, 832, 184, 670, 228]\n",
            "Count of Even Numbers: 45\n"
          ]
        }
      ]
    },
    {
      "cell_type": "markdown",
      "source": [
        "(iii)All prime numbers "
      ],
      "metadata": {
        "id": "zYsbwi6ARFs5"
      }
    },
    {
      "cell_type": "code",
      "source": [
        "import random\n",
        "\n",
        "\n",
        "def is_prime(number):\n",
        "    if number < 2:\n",
        "        return False\n",
        "    for i in range(2, int(number ** 0.5) + 1):\n",
        "        if number % i == 0:\n",
        "            return False\n",
        "    return True\n",
        "\n",
        "\n",
        "\n",
        "random_numbers = [random.randint(100, 900) for _ in range(100)]\n",
        "\n",
        "\n",
        "prime_numbers = [num for num in random_numbers if is_prime(num)]\n",
        "count_prime_numbers = len(prime_numbers)\n",
        "\n",
        "print(\"Random Numbers:\", random_numbers)\n",
        "print(\"Prime Numbers:\", prime_numbers)\n",
        "print(\"Count of Prime Numbers:\", count_prime_numbers)\n"
      ],
      "metadata": {
        "colab": {
          "base_uri": "https://localhost:8080/"
        },
        "id": "9DnDTe7IRWuZ",
        "outputId": "51a96017-95e7-4b14-e2df-56095b1a6186"
      },
      "execution_count": 17,
      "outputs": [
        {
          "output_type": "stream",
          "name": "stdout",
          "text": [
            "Random Numbers: [792, 113, 636, 707, 126, 754, 334, 279, 736, 761, 538, 595, 384, 662, 301, 601, 706, 378, 695, 478, 346, 406, 136, 217, 142, 405, 200, 702, 233, 402, 451, 381, 629, 325, 755, 278, 650, 578, 122, 787, 564, 169, 436, 482, 327, 123, 821, 313, 321, 137, 337, 860, 135, 851, 130, 347, 246, 851, 413, 892, 341, 103, 651, 837, 627, 733, 873, 230, 584, 776, 501, 256, 742, 305, 659, 897, 526, 184, 825, 543, 226, 147, 794, 163, 147, 634, 142, 692, 779, 364, 305, 300, 261, 305, 641, 690, 775, 624, 721, 856]\n",
            "Prime Numbers: [113, 761, 601, 233, 787, 821, 313, 137, 337, 347, 103, 733, 659, 163, 641]\n",
            "Count of Prime Numbers: 15\n"
          ]
        }
      ]
    },
    {
      "cell_type": "markdown",
      "source": [
        "**# Ques7) D is a dictionary defined as D={1:\"One\",2:\"Two\",3:\"Three\",4:\"Four\", 5:\"Five\"}. **\n",
        "**# WAP to read all the keys and values from dictionary and write to the file in the given below format.**\n",
        "**# Key1, Value1**\n",
        "**# Key2, Value2**\n",
        "**# Key3, Value3**"
      ],
      "metadata": {
        "id": "sj4QzJmTS_Dh"
      }
    },
    {
      "cell_type": "code",
      "source": [
        "D = {1: \"One\", 2: \"Two\", 3: \"Three\", 4: \"Four\", 5: \"Five\"}\n",
        "\n",
        "# Open the file in write mode\n",
        "with open(\"output.txt\", \"w\") as file:\n",
        "    # Iterate over the dictionary items and write them to the file\n",
        "    for key, value in D.items():\n",
        "        file.write(f\"{key}, {value}\\n\")\n"
      ],
      "metadata": {
        "id": "HNfi1YRiTL8n"
      },
      "execution_count": 18,
      "outputs": []
    },
    {
      "cell_type": "markdown",
      "source": [
        "# Ques 8). L is a list defined as L={\"One\",\"Two\",\"Three\",\"Four\",\"Five\"}.\n",
        "# WAP to count the length of reach element from a list and write to the file in the given below format:\n",
        "# One, 3\n",
        "# Two, 3\n",
        "## Four, 4 "
      ],
      "metadata": {
        "id": "0Rszc09gTTHv"
      }
    },
    {
      "cell_type": "code",
      "source": [
        "L = [\"One\", \"Two\", \"Three\", \"Four\", \"Five\"]\n",
        "\n",
        "# Open the file in write mode\n",
        "with open(\"output.txt\", \"w\") as file:\n",
        "    # Iterate over the elements in the list\n",
        "    for element in L:\n",
        "        length = len(element)\n",
        "        file.write(f\"{element}, {length}\\n\")\n"
      ],
      "metadata": {
        "id": "ky7eBpUHTdyV"
      },
      "execution_count": 19,
      "outputs": []
    },
    {
      "cell_type": "markdown",
      "source": [
        "# **Ques9) Write to the file 100 random strings whose length between 10 and 15**"
      ],
      "metadata": {
        "id": "HdxbJQKtTrpC"
      }
    },
    {
      "cell_type": "code",
      "source": [
        "import random\n",
        "import string\n",
        "\n",
        "# Generate a random string with length between 10 and 15 characters\n",
        "def generate_random_string():\n",
        "    length = random.randint(10, 15)\n",
        "    return ''.join(random.choice(string.ascii_letters) for _ in range(length))\n",
        "\n",
        "# Open the file in write mode\n",
        "with open(\"output.txt\", \"w\") as file:\n",
        "    # Generate and write 100 random strings to the file\n",
        "    for _ in range(100):\n",
        "        random_string = generate_random_string()\n",
        "        file.write(random_string + \"\\n\")\n"
      ],
      "metadata": {
        "id": "7YzrOlHGTxQs"
      },
      "execution_count": 20,
      "outputs": []
    },
    {
      "cell_type": "markdown",
      "source": [
        "# **Ques 10)WAP to calculate the time taken by a program.**\n"
      ],
      "metadata": {
        "id": "w7jAwsuZT9I7"
      }
    },
    {
      "cell_type": "code",
      "source": [
        "import time\n",
        "\n",
        "# Get the current time before running the program\n",
        "start_time = time.time()\n",
        "\n",
        "# Program logic: Calculate the sum of numbers from 1 to 10000\n",
        "sum_of_numbers = 0\n",
        "for i in range(1, 10001):\n",
        "    sum_of_numbers += i\n",
        "\n",
        "# Get the current time after running the program\n",
        "end_time = time.time()\n",
        "\n",
        "# Calculate the time taken by the program\n",
        "elapsed_time = end_time - start_time\n",
        "\n",
        "# Print the sum of numbers and the time taken in seconds\n",
        "print(\"Sum of numbers:\", sum_of_numbers)\n",
        "print(\"Time taken:\", elapsed_time, \"seconds\")\n"
      ],
      "metadata": {
        "colab": {
          "base_uri": "https://localhost:8080/"
        },
        "id": "uQOly3nGT_9b",
        "outputId": "e21d5ff6-8261-43d1-ddaf-ab77dc13371d"
      },
      "execution_count": 21,
      "outputs": [
        {
          "output_type": "stream",
          "name": "stdout",
          "text": [
            "Sum of numbers: 50005000\n",
            "Time taken: 0.001863718032836914 seconds\n"
          ]
        }
      ]
    },
    {
      "cell_type": "markdown",
      "source": [
        "# **Ques 11)WAP to sort following number of elements in a list, calculate time taken and plot the graph.\n",
        "# Number of elements in list Time Taken\n",
        "5k T1\n",
        "10k T2\n",
        "15k T3\n",
        "20k T4\n",
        "25k T5\n"
      ],
      "metadata": {
        "id": "xIUR-DiqUlCX"
      }
    },
    {
      "cell_type": "code",
      "source": [
        "import time\n",
        "import matplotlib.pyplot as plt\n",
        "\n",
        "def sort_list_and_measure_time(n):\n",
        "    # Generate a list of n elements\n",
        "    lst = list(range(n, 0, -1))\n",
        "\n",
        "    # Start the timer\n",
        "    start_time = time.time()\n",
        "\n",
        "    # Sort the list\n",
        "    lst.sort()\n",
        "\n",
        "    # End the timer\n",
        "    end_time = time.time()\n",
        "\n",
        "    # Calculate the time taken\n",
        "    elapsed_time = end_time - start_time\n",
        "\n",
        "    return elapsed_time\n",
        "\n",
        "# Number of elements in the list\n",
        "elements = [5000, 10000, 15000, 20000, 25000]\n",
        "\n",
        "# Measure the time taken for each number of elements\n",
        "times = []\n",
        "for num_elements in elements:\n",
        "    elapsed_time = sort_list_and_measure_time(num_elements)\n",
        "    times.append(elapsed_time)\n",
        "\n",
        "# Plot the graph\n",
        "plt.plot(elements, times, 'bo-')\n",
        "plt.xlabel('Number of Elements')\n",
        "plt.ylabel('Time Taken (seconds)')\n",
        "plt.title('Sorting Time vs Number of Elements')\n",
        "plt.show()\n"
      ],
      "metadata": {
        "colab": {
          "base_uri": "https://localhost:8080/",
          "height": 472
        },
        "id": "QwTHHG_1UyDg",
        "outputId": "389f751d-71d2-4694-e1d3-8bd297c8e122"
      },
      "execution_count": 22,
      "outputs": [
        {
          "output_type": "display_data",
          "data": {
            "text/plain": [
              "<Figure size 640x480 with 1 Axes>"
            ],
            "image/png": "[encoded data removed]"
          },
          "metadata": {}
        }
      ]
    },
    {
      "cell_type": "markdown",
      "source": [
        "# **Ques 12)WAP to create a dictionary of student marks in five subjects and you have to find the student having maximum and minimum average marks.**"
      ],
      "metadata": {
        "id": "Oi8kmsdOVLHu"
      }
    },
    {
      "cell_type": "code",
      "source": [
        "# Create a dictionary of student marks in five subjects\n",
        "student_marks = {\n",
        "    'Alice': [85, 92, 78, 90, 88],\n",
        "    'Bob': [79, 82, 90, 85, 86],\n",
        "    'Charlie': [92, 88, 85, 78, 90],\n",
        "    'David': [78, 85, 88, 90, 79],\n",
        "    'Eve': [90, 92, 88, 82, 85]\n",
        "}\n",
        "\n",
        "# Calculate the average marks for each student\n",
        "average_marks = {}\n",
        "for student, marks in student_marks.items():\n",
        "    average = sum(marks) / len(marks)\n",
        "    average_marks[student] = average\n",
        "\n",
        "# Find the student with the maximum and minimum average marks\n",
        "max_average_student = max(average_marks, key=average_marks.get)\n",
        "min_average_student = min(average_marks, key=average_marks.get)\n",
        "\n",
        "# Print the results\n",
        "print(\"Student with Maximum Average Marks:\")\n",
        "print(\"Name:\", max_average_student)\n",
        "print(\"Average Marks:\", average_marks[max_average_student])\n",
        "print()\n",
        "print(\"Student with Minimum Average Marks:\")\n",
        "print(\"Name:\", min_average_student)\n",
        "print(\"Average Marks:\", average_marks[min_average_student])\n"
      ],
      "metadata": {
        "colab": {
          "base_uri": "https://localhost:8080/"
        },
        "id": "X-_UjljLVRP4",
        "outputId": "5bbce585-9de0-484d-9274-7622a1b3d149"
      },
      "execution_count": 23,
      "outputs": [
        {
          "output_type": "stream",
          "name": "stdout",
          "text": [
            "Student with Maximum Average Marks:\n",
            "Name: Eve\n",
            "Average Marks: 87.4\n",
            "\n",
            "Student with Minimum Average Marks:\n",
            "Name: David\n",
            "Average Marks: 84.0\n"
          ]
        }
      ]
    }
  ]
}